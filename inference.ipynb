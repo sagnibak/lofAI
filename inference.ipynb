{
 "cells": [
  {
   "cell_type": "code",
   "execution_count": 19,
   "metadata": {},
   "outputs": [],
   "source": [
    "import os\n",
    "os.environ['TF_CPP_MIN_LOG_LEVEL']='2'\n",
    "os.environ['CUDA_VISIBLE_DEVICES']='-1'\n",
    "\n",
    "from autoencoder import build_encoder, build_decoder\n",
    "from data_utils import mu_law_expansion\n",
    "\n",
    "from IPython.display import Audio\n",
    "import mdct\n",
    "import numpy as np"
   ]
  },
  {
   "cell_type": "code",
   "execution_count": 11,
   "metadata": {},
   "outputs": [],
   "source": [
    "dec_path = 'models/decoders/dec3_006_131783.077.h5'\n",
    "enc_path = 'models/encoders/enc3_006_131783.077.h5'\n",
    "decoder = build_decoder()\n",
    "encoder = build_encoder()[0]\n",
    "encoder.load_weights(enc_path, by_name=True)\n",
    "decoder.load_weights(dec_path, by_name=True)"
   ]
  },
  {
   "cell_type": "code",
   "execution_count": 22,
   "metadata": {},
   "outputs": [],
   "source": [
    "spec_out = decoder.predict(np.random.randn(1, 2, 2, 640))"
   ]
  },
  {
   "cell_type": "code",
   "execution_count": 15,
   "metadata": {},
   "outputs": [
    {
     "data": {
      "text/plain": [
       "(1, 128, 1024, 2)"
      ]
     },
     "execution_count": 15,
     "metadata": {},
     "output_type": "execute_result"
    }
   ],
   "source": [
    "spec_out.shape"
   ]
  },
  {
   "cell_type": "code",
   "execution_count": 23,
   "metadata": {},
   "outputs": [
    {
     "name": "stderr",
     "output_type": "stream",
     "text": [
      "C:\\Users\\sagni\\Anaconda3\\envs\\chacks\\lib\\site-packages\\stft\\utils.py:53: FutureWarning: Using a non-tuple sequence for multidimensional indexing is deprecated; use `arr[tuple(seq)]` instead of `arr[seq]`. In the future this will be interpreted as an array index, `arr[np.array(seq)]`, which will result either in an error or a different result.\n",
      "  return data[slicetuple]\n",
      "C:\\Users\\sagni\\Anaconda3\\envs\\chacks\\lib\\site-packages\\stft\\utils.py:25: FutureWarning: Using a non-tuple sequence for multidimensional indexing is deprecated; use `arr[tuple(seq)]` instead of `arr[seq]`. In the future this will be interpreted as an array index, `arr[np.array(seq)]`, which will result either in an error or a different result.\n",
      "  return data[slicetuple]\n"
     ]
    }
   ],
   "source": [
    "song = mu_law_expansion(mdct.imdct(spec_out.reshape(128, 1024, 2), framelength=256), mu=511)"
   ]
  },
  {
   "cell_type": "code",
   "execution_count": 24,
   "metadata": {},
   "outputs": [
    {
     "data": {
      "text/plain": [
       "((130944, 2), -4.5888653259965274e-10, 2.689622779767472e-10)"
      ]
     },
     "execution_count": 24,
     "metadata": {},
     "output_type": "execute_result"
    }
   ],
   "source": [
    "song.shape, np.min(song), np.max(song)"
   ]
  },
  {
   "cell_type": "code",
   "execution_count": 25,
   "metadata": {},
   "outputs": [],
   "source": [
    "import h5py"
   ]
  },
  {
   "cell_type": "code",
   "execution_count": 28,
   "metadata": {},
   "outputs": [],
   "source": [
    "wfile = h5py.File(enc_path, 'r')"
   ]
  },
  {
   "cell_type": "code",
   "execution_count": 33,
   "metadata": {},
   "outputs": [
    {
     "data": {
      "text/plain": [
       "['decoder', 'encoder', 'spectral_in']"
      ]
     },
     "execution_count": 33,
     "metadata": {},
     "output_type": "execute_result"
    }
   ],
   "source": [
    "list(wfile.keys())"
   ]
  },
  {
   "cell_type": "code",
   "execution_count": 40,
   "metadata": {},
   "outputs": [
    {
     "data": {
      "text/plain": [
       "[array([[[-0.02068196],\n",
       "         [-0.00058308],\n",
       "         [ 0.01735755],\n",
       "         ...,\n",
       "         [-0.03248778],\n",
       "         [-0.04424548],\n",
       "         [ 0.0457684 ]],\n",
       " \n",
       "        [[-0.03960786],\n",
       "         [-0.01267996],\n",
       "         [-0.05668421],\n",
       "         ...,\n",
       "         [ 0.00114235],\n",
       "         [-0.03676904],\n",
       "         [-0.04409389]]], dtype=float32), array([[[-0.00825086],\n",
       "         [ 0.02800075],\n",
       "         [-0.02537047],\n",
       "         ...,\n",
       "         [-0.04031558],\n",
       "         [ 0.04947508],\n",
       "         [ 0.03619526]],\n",
       " \n",
       "        [[-0.0466805 ],\n",
       "         [ 0.04970767],\n",
       "         [-0.01555413],\n",
       "         ...,\n",
       "         [ 0.02352444],\n",
       "         [-0.01609556],\n",
       "         [ 0.04474429]]], dtype=float32)]"
      ]
     },
     "execution_count": 40,
     "metadata": {},
     "output_type": "execute_result"
    }
   ],
   "source": [
    "list(wfile['decoder']['Upsampling_Block_0']['Conv_BN_LReLU_22']['separable_conv2d_20']['depthwise_kernel:0'])"
   ]
  },
  {
   "cell_type": "markdown",
   "metadata": {},
   "source": [
    "The weights were not saved properly :("
   ]
  }
 ],
 "metadata": {
  "kernelspec": {
   "display_name": "Python 3",
   "language": "python",
   "name": "python3"
  },
  "language_info": {
   "codemirror_mode": {
    "name": "ipython",
    "version": 3
   },
   "file_extension": ".py",
   "mimetype": "text/x-python",
   "name": "python",
   "nbconvert_exporter": "python",
   "pygments_lexer": "ipython3",
   "version": "3.6.7"
  }
 },
 "nbformat": 4,
 "nbformat_minor": 2
}
